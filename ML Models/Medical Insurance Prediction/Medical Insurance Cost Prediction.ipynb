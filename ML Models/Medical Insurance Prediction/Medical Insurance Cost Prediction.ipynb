{
 "cells": [
  {
   "cell_type": "code",
   "execution_count": 1,
   "metadata": {
    "id": "dCei9HxoNdG5",
    "pycharm": {
     "name": "#%%\n"
    },
    "scrolled": true
   },
   "outputs": [],
   "source": [
    "from scipy import integrate\n",
    "import numpy as np\n",
    "import pandas as pd\n",
    "from sklearn.model_selection import train_test_split\n",
    "from sklearn.linear_model import LinearRegression\n",
    "from sklearn.metrics import accuracy_score\n",
    "from sklearn import metrics"
   ]
  },
  {
   "cell_type": "code",
   "execution_count": 2,
   "metadata": {
    "id": "HvkkGhfRSGdn",
    "pycharm": {
     "name": "#%%\n"
    }
   },
   "outputs": [],
   "source": [
    "insurance_dataset = pd.read_csv('patient_data.csv')"
   ]
  },
  {
   "cell_type": "code",
   "execution_count": 3,
   "metadata": {
    "colab": {
     "base_uri": "https://localhost:8080/",
     "height": 196
    },
    "id": "jKHJM3wUSfhe",
    "outputId": "33b466ad-af74-491e-b3f9-4dadff8cca4a",
    "pycharm": {
     "name": "#%%\n"
    }
   },
   "outputs": [
    {
     "data": {
      "text/html": [
       "<div>\n",
       "<style scoped>\n",
       "    .dataframe tbody tr th:only-of-type {\n",
       "        vertical-align: middle;\n",
       "    }\n",
       "\n",
       "    .dataframe tbody tr th {\n",
       "        vertical-align: top;\n",
       "    }\n",
       "\n",
       "    .dataframe thead th {\n",
       "        text-align: right;\n",
       "    }\n",
       "</style>\n",
       "<table border=\"1\" class=\"dataframe\">\n",
       "  <thead>\n",
       "    <tr style=\"text-align: right;\">\n",
       "      <th></th>\n",
       "      <th>Id</th>\n",
       "      <th>AGE</th>\n",
       "      <th>BIRTHDATE</th>\n",
       "      <th>DEATHDATE</th>\n",
       "      <th>SSN</th>\n",
       "      <th>DRIVERS</th>\n",
       "      <th>PASSPORT</th>\n",
       "      <th>PREFIX</th>\n",
       "      <th>FIRST</th>\n",
       "      <th>LAST</th>\n",
       "      <th>...</th>\n",
       "      <th>ZIP</th>\n",
       "      <th>LAT</th>\n",
       "      <th>LON</th>\n",
       "      <th>HEALTHCARE_EXPENSES</th>\n",
       "      <th>HEALTHCARE_COVERAGE</th>\n",
       "      <th>INCOME</th>\n",
       "      <th>BMI</th>\n",
       "      <th>CHILDREN</th>\n",
       "      <th>SMOKER</th>\n",
       "      <th>INSURANCE COST</th>\n",
       "    </tr>\n",
       "  </thead>\n",
       "  <tbody>\n",
       "    <tr>\n",
       "      <th>0</th>\n",
       "      <td>884fbf2d-c706-06d6-10f2-1c5e56ab9407</td>\n",
       "      <td>30</td>\n",
       "      <td>08-10-92</td>\n",
       "      <td>NaN</td>\n",
       "      <td>999-76-4953</td>\n",
       "      <td>S99926012</td>\n",
       "      <td>X13581658X</td>\n",
       "      <td>Mr.</td>\n",
       "      <td>Lincoln623</td>\n",
       "      <td>Marvin195</td>\n",
       "      <td>...</td>\n",
       "      <td>0</td>\n",
       "      <td>41.622318</td>\n",
       "      <td>-70.456573</td>\n",
       "      <td>24744.16</td>\n",
       "      <td>39042.52</td>\n",
       "      <td>55236</td>\n",
       "      <td>27.900</td>\n",
       "      <td>0</td>\n",
       "      <td>yes</td>\n",
       "      <td>16884.92400</td>\n",
       "    </tr>\n",
       "    <tr>\n",
       "      <th>1</th>\n",
       "      <td>03d213fb-4a18-6dca-7044-51e1a812ab6b</td>\n",
       "      <td>27</td>\n",
       "      <td>27-12-94</td>\n",
       "      <td>NaN</td>\n",
       "      <td>999-43-3745</td>\n",
       "      <td>S99975043</td>\n",
       "      <td>X33721896X</td>\n",
       "      <td>Mr.</td>\n",
       "      <td>Stewart672</td>\n",
       "      <td>Kemmer137</td>\n",
       "      <td>...</td>\n",
       "      <td>0</td>\n",
       "      <td>42.420653</td>\n",
       "      <td>-71.553006</td>\n",
       "      <td>29120.17</td>\n",
       "      <td>70844.76</td>\n",
       "      <td>485327</td>\n",
       "      <td>33.770</td>\n",
       "      <td>1</td>\n",
       "      <td>no</td>\n",
       "      <td>1725.55230</td>\n",
       "    </tr>\n",
       "    <tr>\n",
       "      <th>2</th>\n",
       "      <td>76b7a07e-b7b0-b348-c001-cb0b24cde476</td>\n",
       "      <td>10</td>\n",
       "      <td>25-11-11</td>\n",
       "      <td>NaN</td>\n",
       "      <td>999-60-6819</td>\n",
       "      <td>NaN</td>\n",
       "      <td>NaN</td>\n",
       "      <td>NaN</td>\n",
       "      <td>Graciela518</td>\n",
       "      <td>Pantoja215</td>\n",
       "      <td>...</td>\n",
       "      <td>1840</td>\n",
       "      <td>42.715281</td>\n",
       "      <td>-71.111399</td>\n",
       "      <td>1450.00</td>\n",
       "      <td>16760.02</td>\n",
       "      <td>8463</td>\n",
       "      <td>33.000</td>\n",
       "      <td>3</td>\n",
       "      <td>no</td>\n",
       "      <td>4449.46200</td>\n",
       "    </tr>\n",
       "    <tr>\n",
       "      <th>3</th>\n",
       "      <td>41ef4da4-b927-a686-efa6-9f8bd8ffb09a</td>\n",
       "      <td>11</td>\n",
       "      <td>27-01-11</td>\n",
       "      <td>NaN</td>\n",
       "      <td>999-88-6315</td>\n",
       "      <td>NaN</td>\n",
       "      <td>NaN</td>\n",
       "      <td>NaN</td>\n",
       "      <td>Eleanora667</td>\n",
       "      <td>Hauck852</td>\n",
       "      <td>...</td>\n",
       "      <td>2748</td>\n",
       "      <td>41.677621</td>\n",
       "      <td>-70.901664</td>\n",
       "      <td>9200.07</td>\n",
       "      <td>7343.09</td>\n",
       "      <td>22882</td>\n",
       "      <td>22.705</td>\n",
       "      <td>0</td>\n",
       "      <td>no</td>\n",
       "      <td>21984.47061</td>\n",
       "    </tr>\n",
       "    <tr>\n",
       "      <th>4</th>\n",
       "      <td>9641e386-4868-62bb-809c-f7112e2d32b9</td>\n",
       "      <td>53</td>\n",
       "      <td>31-01-69</td>\n",
       "      <td>NaN</td>\n",
       "      <td>999-63-2897</td>\n",
       "      <td>S99967493</td>\n",
       "      <td>X59463414X</td>\n",
       "      <td>Mrs.</td>\n",
       "      <td>Jennette837</td>\n",
       "      <td>VonRueden376</td>\n",
       "      <td>...</td>\n",
       "      <td>1844</td>\n",
       "      <td>42.786539</td>\n",
       "      <td>-71.146694</td>\n",
       "      <td>67634.14</td>\n",
       "      <td>876113.50</td>\n",
       "      <td>479840</td>\n",
       "      <td>28.880</td>\n",
       "      <td>0</td>\n",
       "      <td>no</td>\n",
       "      <td>3866.85520</td>\n",
       "    </tr>\n",
       "  </tbody>\n",
       "</table>\n",
       "<p>5 rows × 32 columns</p>\n",
       "</div>"
      ],
      "text/plain": [
       "                                     Id  AGE BIRTHDATE DEATHDATE          SSN  \\\n",
       "0  884fbf2d-c706-06d6-10f2-1c5e56ab9407   30  08-10-92       NaN  999-76-4953   \n",
       "1  03d213fb-4a18-6dca-7044-51e1a812ab6b   27  27-12-94       NaN  999-43-3745   \n",
       "2  76b7a07e-b7b0-b348-c001-cb0b24cde476   10  25-11-11       NaN  999-60-6819   \n",
       "3  41ef4da4-b927-a686-efa6-9f8bd8ffb09a   11  27-01-11       NaN  999-88-6315   \n",
       "4  9641e386-4868-62bb-809c-f7112e2d32b9   53  31-01-69       NaN  999-63-2897   \n",
       "\n",
       "     DRIVERS    PASSPORT PREFIX        FIRST          LAST  ...   ZIP  \\\n",
       "0  S99926012  X13581658X    Mr.   Lincoln623     Marvin195  ...     0   \n",
       "1  S99975043  X33721896X    Mr.   Stewart672     Kemmer137  ...     0   \n",
       "2        NaN         NaN    NaN  Graciela518    Pantoja215  ...  1840   \n",
       "3        NaN         NaN    NaN  Eleanora667      Hauck852  ...  2748   \n",
       "4  S99967493  X59463414X   Mrs.  Jennette837  VonRueden376  ...  1844   \n",
       "\n",
       "         LAT        LON HEALTHCARE_EXPENSES HEALTHCARE_COVERAGE  INCOME  \\\n",
       "0  41.622318 -70.456573            24744.16            39042.52   55236   \n",
       "1  42.420653 -71.553006            29120.17            70844.76  485327   \n",
       "2  42.715281 -71.111399             1450.00            16760.02    8463   \n",
       "3  41.677621 -70.901664             9200.07             7343.09   22882   \n",
       "4  42.786539 -71.146694            67634.14           876113.50  479840   \n",
       "\n",
       "      BMI CHILDREN SMOKER INSURANCE COST  \n",
       "0  27.900        0    yes    16884.92400  \n",
       "1  33.770        1     no     1725.55230  \n",
       "2  33.000        3     no     4449.46200  \n",
       "3  22.705        0     no    21984.47061  \n",
       "4  28.880        0     no     3866.85520  \n",
       "\n",
       "[5 rows x 32 columns]"
      ]
     },
     "execution_count": 3,
     "metadata": {},
     "output_type": "execute_result"
    }
   ],
   "source": [
    "insurance_dataset.head()"
   ]
  },
  {
   "cell_type": "code",
   "execution_count": 4,
   "metadata": {
    "colab": {
     "base_uri": "https://localhost:8080/"
    },
    "id": "qB730MywSmwM",
    "outputId": "70945582-388b-4ac7-b743-fac830f1ec4f",
    "pycharm": {
     "name": "#%%\n"
    }
   },
   "outputs": [
    {
     "data": {
      "text/plain": [
       "(1338, 32)"
      ]
     },
     "execution_count": 4,
     "metadata": {},
     "output_type": "execute_result"
    }
   ],
   "source": [
    "# number of rows and columns\n",
    "insurance_dataset.shape"
   ]
  },
  {
   "cell_type": "code",
   "execution_count": 5,
   "metadata": {
    "pycharm": {
     "name": "#%%\n"
    }
   },
   "outputs": [],
   "source": [
    "from sklearn import preprocessing\n",
    "  \n",
    "label_encoder = preprocessing.LabelEncoder()"
   ]
  },
  {
   "cell_type": "code",
   "execution_count": 6,
   "metadata": {
    "id": "QVXYBAt_XwPO",
    "pycharm": {
     "name": "#%%\n"
    }
   },
   "outputs": [],
   "source": [
    "insurance_dataset.replace({'GENDER':{'M':0,'F':1}}, inplace=True)\n",
    "insurance_dataset.replace({'SMOKER':{'yes':0,'no':1}}, inplace=True)\n",
    "insurance_dataset['CITY'] = label_encoder.fit_transform(insurance_dataset['CITY'])"
   ]
  },
  {
   "cell_type": "code",
   "execution_count": 7,
   "metadata": {
    "pycharm": {
     "name": "#%%\n"
    },
    "scrolled": true
   },
   "outputs": [
    {
     "data": {
      "text/plain": [
       "Index(['Id', 'AGE', 'BIRTHDATE', 'DEATHDATE', 'SSN', 'DRIVERS', 'PASSPORT',\n",
       "       'PREFIX', 'FIRST', 'LAST', 'SUFFIX', 'MAIDEN', 'MARITAL', 'RACE',\n",
       "       'ETHNICITY', 'GENDER', 'BIRTHPLACE', 'ADDRESS', 'CITY', 'STATE',\n",
       "       'COUNTY', 'FIPS', 'ZIP', 'LAT', 'LON', 'HEALTHCARE_EXPENSES',\n",
       "       'HEALTHCARE_COVERAGE', 'INCOME', 'BMI', 'CHILDREN', 'SMOKER',\n",
       "       'INSURANCE COST'],\n",
       "      dtype='object')"
      ]
     },
     "execution_count": 7,
     "metadata": {},
     "output_type": "execute_result"
    }
   ],
   "source": [
    "insurance_dataset.columns"
   ]
  },
  {
   "cell_type": "code",
   "execution_count": 8,
   "metadata": {
    "id": "Z5UK60q_ZMgr",
    "pycharm": {
     "name": "#%%\n"
    }
   },
   "outputs": [],
   "source": [
    "X = insurance_dataset.drop(columns=['Id', 'CITY', 'BIRTHDATE', 'DEATHDATE', 'SSN', 'DRIVERS', 'PASSPORT', 'PREFIX',\n",
    "       'FIRST', 'LAST', 'SUFFIX', 'MAIDEN', 'MARITAL', 'RACE', 'ETHNICITY','BIRTHPLACE', 'ADDRESS', 'STATE', 'COUNTY', 'FIPS',\n",
    "       'ZIP', 'LAT', 'LON', 'HEALTHCARE_EXPENSES', 'HEALTHCARE_COVERAGE',\n",
    "       'INCOME', 'INSURANCE COST'], axis=1)\n",
    "Y = insurance_dataset['INSURANCE COST']"
   ]
  },
  {
   "cell_type": "code",
   "execution_count": 9,
   "metadata": {
    "colab": {
     "base_uri": "https://localhost:8080/"
    },
    "id": "ACFgPgoUZvzP",
    "outputId": "af4b5262-090a-49cc-8c40-b37a4a228d94",
    "pycharm": {
     "name": "#%%\n"
    }
   },
   "outputs": [
    {
     "name": "stdout",
     "output_type": "stream",
     "text": [
      "      AGE  GENDER     BMI  CHILDREN  SMOKER\n",
      "0      30       0  27.900         0       0\n",
      "1      27       0  33.770         1       1\n",
      "2      10       1  33.000         3       1\n",
      "3      11       1  22.705         0       1\n",
      "4      53       1  28.880         0       1\n",
      "...   ...     ...     ...       ...     ...\n",
      "1333   41       1  30.970         3       1\n",
      "1334   40       1  31.920         0       1\n",
      "1335   40       0  36.850         0       1\n",
      "1336   69       0  25.800         0       1\n",
      "1337   54       0  29.070         0       0\n",
      "\n",
      "[1338 rows x 5 columns]\n"
     ]
    }
   ],
   "source": [
    "print(X)"
   ]
  },
  {
   "cell_type": "code",
   "execution_count": 10,
   "metadata": {
    "colab": {
     "base_uri": "https://localhost:8080/"
    },
    "id": "7zcw-kgaZxvI",
    "outputId": "f3c875bd-194d-4efd-ee54-b5beeb57e630",
    "pycharm": {
     "name": "#%%\n"
    }
   },
   "outputs": [
    {
     "name": "stdout",
     "output_type": "stream",
     "text": [
      "0       16884.92400\n",
      "1        1725.55230\n",
      "2        4449.46200\n",
      "3       21984.47061\n",
      "4        3866.85520\n",
      "           ...     \n",
      "1333    10600.54830\n",
      "1334     2205.98080\n",
      "1335     1629.83350\n",
      "1336     2007.94500\n",
      "1337    29141.36030\n",
      "Name: INSURANCE COST, Length: 1338, dtype: float64\n"
     ]
    }
   ],
   "source": [
    "print(Y)"
   ]
  },
  {
   "cell_type": "code",
   "execution_count": 11,
   "metadata": {
    "id": "8HQEpONYbL0-",
    "pycharm": {
     "name": "#%%\n"
    }
   },
   "outputs": [],
   "source": [
    "X_train, X_test, Y_train, Y_test = train_test_split(X, Y, test_size=0.2, random_state=2)"
   ]
  },
  {
   "cell_type": "code",
   "execution_count": 12,
   "metadata": {
    "colab": {
     "base_uri": "https://localhost:8080/"
    },
    "id": "GKh0p46hb3iD",
    "outputId": "125bef72-9197-4329-bcd6-e35baeeb87da",
    "pycharm": {
     "name": "#%%\n"
    }
   },
   "outputs": [
    {
     "name": "stdout",
     "output_type": "stream",
     "text": [
      "(1338, 5) (1070, 5) (268, 5)\n"
     ]
    }
   ],
   "source": [
    "print(X.shape, X_train.shape, X_test.shape)"
   ]
  },
  {
   "cell_type": "code",
   "execution_count": 13,
   "metadata": {
    "id": "18wYy3bub9ej",
    "pycharm": {
     "name": "#%%\n"
    }
   },
   "outputs": [],
   "source": [
    "regressor = LinearRegression()"
   ]
  },
  {
   "cell_type": "code",
   "execution_count": 14,
   "metadata": {
    "colab": {
     "base_uri": "https://localhost:8080/"
    },
    "id": "yRHiG9dqcxxN",
    "outputId": "1a7128e1-d38c-429b-96cc-cc0eb106b6ce",
    "pycharm": {
     "name": "#%%\n"
    }
   },
   "outputs": [
    {
     "data": {
      "text/plain": [
       "LinearRegression()"
      ]
     },
     "execution_count": 14,
     "metadata": {},
     "output_type": "execute_result"
    }
   ],
   "source": [
    "regressor.fit(X_train, Y_train)"
   ]
  },
  {
   "cell_type": "code",
   "execution_count": 15,
   "metadata": {
    "id": "NhRL9x_wc6-p",
    "pycharm": {
     "name": "#%%\n"
    }
   },
   "outputs": [],
   "source": [
    "training_data_prediction =regressor.predict(X_train)"
   ]
  },
  {
   "cell_type": "code",
   "execution_count": 16,
   "metadata": {
    "id": "pHQSjvekdsgO",
    "pycharm": {
     "name": "#%%\n"
    }
   },
   "outputs": [],
   "source": [
    "test_data_prediction =regressor.predict(X_test)"
   ]
  },
  {
   "cell_type": "code",
   "execution_count": 18,
   "metadata": {
    "colab": {
     "base_uri": "https://localhost:8080/"
    },
    "id": "H9bGdPbBd_Xd",
    "outputId": "ee59e2e7-c2b3-4b17-8fe8-e770dcd712c3",
    "pycharm": {
     "name": "#%%\n"
    }
   },
   "outputs": [
    {
     "name": "stdout",
     "output_type": "stream",
     "text": [
      "[9963.6614534]\n",
      "The insurance cost is  9963.661453400904 INR\n"
     ]
    },
    {
     "name": "stderr",
     "output_type": "stream",
     "text": [
      "C:\\Users\\Gaurisha R Srivastav\\AppData\\Local\\Programs\\Python\\Python39\\lib\\site-packages\\sklearn\\base.py:450: UserWarning: X does not have valid feature names, but LinearRegression was fitted with feature names\n",
      "  warnings.warn(\n"
     ]
    }
   ],
   "source": [
    "input_data = (27,0,33.770,1,1)\n",
    "\n",
    "input_data_as_numpy_array = np.asarray(input_data)\n",
    "\n",
    "input_data_reshaped = input_data_as_numpy_array.reshape(1,-1)\n",
    "\n",
    "prediction = regressor.predict(input_data_reshaped)\n",
    "print(prediction)\n",
    "\n",
    "print('The insurance cost is ', prediction[0], 'INR')"
   ]
  },
  {
   "cell_type": "code",
   "execution_count": null,
   "metadata": {
    "pycharm": {
     "name": "#%%\n"
    }
   },
   "outputs": [],
   "source": [
    "import joblib\n",
    "pkl_file = open(\"MICP.pkl\",\"wb\")\n",
    "joblib.dump(regressor,pkl_file)\n",
    "pkl_file.close()"
   ]
  }
 ],
 "metadata": {
  "colab": {
   "provenance": []
  },
  "kernelspec": {
   "display_name": "Python 3 (ipykernel)",
   "language": "python",
   "name": "python3"
  },
  "language_info": {
   "codemirror_mode": {
    "name": "ipython",
    "version": 3
   },
   "file_extension": ".py",
   "mimetype": "text/x-python",
   "name": "python",
   "nbconvert_exporter": "python",
   "pygments_lexer": "ipython3",
   "version": "3.9.5"
  }
 },
 "nbformat": 4,
 "nbformat_minor": 1
}
